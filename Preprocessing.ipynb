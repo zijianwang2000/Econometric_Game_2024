{
 "cells": [
  {
   "cell_type": "code",
   "execution_count": 1,
   "id": "01e49ca9-fefb-41ae-8d38-85e19fdd482e",
   "metadata": {},
   "outputs": [],
   "source": [
    "import numpy as np\n",
    "import matplotlib.pyplot as plt\n",
    "import pandas as pd\n",
    "from sklearn.preprocessing import StandardScaler"
   ]
  },
  {
   "cell_type": "code",
   "execution_count": null,
   "id": "377f5854-0328-4275-a7a6-9a7ec5fbe8e7",
   "metadata": {},
   "outputs": [],
   "source": [
    "# Read CSV file into a DataFrame\n",
    "df = pd.read_csv('data/data_raw.csv')\n",
    "df"
   ]
  },
  {
   "cell_type": "code",
   "execution_count": null,
   "id": "0c784ae1-415f-4ae0-9ac4-137917f5df75",
   "metadata": {},
   "outputs": [],
   "source": [
    "# Get list of all input features\n",
    "def get_inputs_list(df):\n",
    "    return df.columns.tolist()\n",
    "\n",
    "inputs_list = get_inputs_list(df)\n",
    "inputs_list"
   ]
  },
  {
   "cell_type": "code",
   "execution_count": null,
   "id": "e972d275-0860-4d3c-9fe4-0dce9706a044",
   "metadata": {},
   "outputs": [],
   "source": [
    "# Count missing values (NaN or NA) in each column\n",
    "def get_missing_counts(df):\n",
    "    return df.isna().sum()\n",
    "\n",
    "missing_counts = get_missing_counts(df)\n",
    "missing_counts"
   ]
  },
  {
   "cell_type": "code",
   "execution_count": null,
   "id": "3d0406c4-9c15-461e-a28f-c41ec2d9d61e",
   "metadata": {},
   "outputs": [],
   "source": [
    "# Compute correlation matrix between all columns\n",
    "def get_corr_matrix(df):\n",
    "    return df.corr()\n",
    "\n",
    "corr_matrix = get_corr_matrix(df)\n",
    "corr_matrix"
   ]
  },
  {
   "cell_type": "code",
   "execution_count": null,
   "id": "a6a1622b-2f42-48af-87f1-18e9725eca61",
   "metadata": {},
   "outputs": [],
   "source": [
    "# Listwise deletion (use with caution)\n",
    "df_avai = df.dropna()\n",
    "df_avai"
   ]
  },
  {
   "cell_type": "code",
   "execution_count": null,
   "id": "b1b97c3c-4f30-4204-b4d4-599d5422a064",
   "metadata": {},
   "outputs": [],
   "source": [
    "# List of input features that will be used for prediction/training\n",
    "inputs_selected = [\n",
    "                  ]\n",
    "len(inputs_selected)"
   ]
  },
  {
   "cell_type": "code",
   "execution_count": null,
   "id": "51b038bb-854b-4814-baed-850d1675e011",
   "metadata": {},
   "outputs": [],
   "source": [
    "# Preprocessing function\n",
    "def preprocess_fct(df_raw, inputs_selected=None):\n",
    "    if inputs_selected is None:\n",
    "        df = df_raw.copy()\n",
    "    else: \n",
    "        df = df_raw[inputs_selected].copy()\n",
    "    \n",
    "    # Masking \n",
    "    df['TODO'].fillna(-1, inplace=True)\n",
    "\n",
    "    # Masking\n",
    "    df['TODO'].fillna(0, inplace=True)\n",
    "    df['TODO'][df['TODO']!=0] = 1\n",
    "\n",
    "    # Masking\n",
    "    df['TODO'] = (df['TODO']=='NAME').astype(float)\n",
    "\n",
    "    # Mean imputation\n",
    "    mean_value = df['TODO'].mean()\n",
    "    df['TODO'].fillna(mean_value, inplace=True)\n",
    "\n",
    "    # One-hot encoding for categorical data\n",
    "    one_hot_encoded = pd.get_dummies(df['TODO'], prefix='TODO')\n",
    "    # Drop original column and concatenate the one-hot encoded columns\n",
    "    df = pd.concat([df.drop('TODO', axis=1), one_hot_encoded], axis=1)\n",
    "\n",
    "    # Slicing strings, e.g. for selecting dates\n",
    "    df['TODO'] = df['TODO'].str[-2:].astype(float)\n",
    "\n",
    "    return df"
   ]
  },
  {
   "cell_type": "code",
   "execution_count": null,
   "id": "abff84d0-1ee1-41af-99c6-10e0eff6fc16",
   "metadata": {},
   "outputs": [],
   "source": [
    "df_clean = preprocess_fct(df, inputs_selected)\n",
    "df_clean"
   ]
  },
  {
   "cell_type": "code",
   "execution_count": null,
   "id": "22760d96-1e9d-4bd8-bd44-d0a7b5ce6896",
   "metadata": {},
   "outputs": [],
   "source": [
    "# Normalize selected columns (e.g. for NN training)\n",
    "def normalize_fct(df_raw, columns=None):\n",
    "    if columns is None:\n",
    "        columns = df_raw.columns.tolist()\n",
    "    \n",
    "    df = df_raw.copy()\n",
    "    scalers = {}\n",
    "    \n",
    "    for column in columns:\n",
    "        missing = (df[column] == -1)\n",
    "        data_avai = df[column][~missing].values.reshape(-1, 1)\n",
    "        scaler = StandardScaler().fit(data_avai)\n",
    "        data_norm = scaler.transform(df[column].values.reshape(-1, 1))\n",
    "        data_norm[missing] = -1\n",
    "        df[column] = data_norm\n",
    "        scalers[column] = scaler\n",
    "    \n",
    "    return df, scalers"
   ]
  },
  {
   "cell_type": "code",
   "execution_count": null,
   "id": "06ebd436-5a69-4ce5-b084-c287e01acde2",
   "metadata": {},
   "outputs": [],
   "source": [
    "# columns = \n",
    "df_clean, scalers = normalize_fct(df_clean) #, columns)\n",
    "df_clean"
   ]
  },
  {
   "cell_type": "code",
   "execution_count": null,
   "id": "954eda9a-e3cb-4847-a640-8afc401ec0e8",
   "metadata": {},
   "outputs": [],
   "source": [
    "# Preprocess test data"
   ]
  },
  {
   "cell_type": "code",
   "execution_count": null,
   "id": "ef90e1ef-ce42-4934-90eb-775a95528c32",
   "metadata": {},
   "outputs": [],
   "source": []
  },
  {
   "cell_type": "code",
   "execution_count": null,
   "id": "6e18cdcb-3ee7-4f5e-853a-da0b57ec95df",
   "metadata": {},
   "outputs": [],
   "source": []
  },
  {
   "cell_type": "code",
   "execution_count": null,
   "id": "3b97406f-3aaf-4b40-ab24-685622f9198f",
   "metadata": {},
   "outputs": [],
   "source": [
    "# Save preprocessed data\n",
    "df_clean.to_csv('data/data_clean.csv', index=False)\n",
    "df_clean.to_numpy().dump('data_clean.npy')"
   ]
  }
 ],
 "metadata": {
  "kernelspec": {
   "display_name": "Python 3 (ipykernel)",
   "language": "python",
   "name": "python3"
  },
  "language_info": {
   "codemirror_mode": {
    "name": "ipython",
    "version": 3
   },
   "file_extension": ".py",
   "mimetype": "text/x-python",
   "name": "python",
   "nbconvert_exporter": "python",
   "pygments_lexer": "ipython3",
   "version": "3.11.5"
  }
 },
 "nbformat": 4,
 "nbformat_minor": 5
}

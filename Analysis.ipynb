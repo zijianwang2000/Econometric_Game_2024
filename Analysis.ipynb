{
 "cells": [
  {
   "cell_type": "code",
   "execution_count": null,
   "id": "999c5862-709f-444e-b19c-74e897fd9cde",
   "metadata": {},
   "outputs": [],
   "source": [
    "import "
   ]
  },
  {
   "cell_type": "code",
   "execution_count": null,
   "id": "cd87e38e-4c22-415c-abb8-b73825c9cb48",
   "metadata": {},
   "outputs": [],
   "source": [
    "xgboost with CV"
   ]
  },
  {
   "cell_type": "code",
   "execution_count": null,
   "id": "b9ef1fa7-cddc-477d-852f-de8fb80d5762",
   "metadata": {},
   "outputs": [],
   "source": [
    "NN with cross_entropy loss"
   ]
  },
  {
   "cell_type": "code",
   "execution_count": null,
   "id": "8db49c56-1009-425c-bb04-5be998a7b5c2",
   "metadata": {},
   "outputs": [],
   "source": [
    "clustering"
   ]
  },
  {
   "cell_type": "code",
   "execution_count": null,
   "id": "bb36f554-9bc7-4a08-910b-fff75cc8ab76",
   "metadata": {},
   "outputs": [],
   "source": [
    "PCA"
   ]
  }
 ],
 "metadata": {
  "kernelspec": {
   "display_name": "Python 3 (ipykernel)",
   "language": "python",
   "name": "python3"
  },
  "language_info": {
   "codemirror_mode": {
    "name": "ipython",
    "version": 3
   },
   "file_extension": ".py",
   "mimetype": "text/x-python",
   "name": "python",
   "nbconvert_exporter": "python",
   "pygments_lexer": "ipython3",
   "version": "3.11.5"
  }
 },
 "nbformat": 4,
 "nbformat_minor": 5
}

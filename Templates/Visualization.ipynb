{
 "cells": [
  {
   "cell_type": "code",
   "execution_count": null,
   "id": "f3fe3d96-f207-4041-95b8-002162f37794",
   "metadata": {},
   "outputs": [],
   "source": [
    "import numpy as np\n",
    "import matplotlib.pyplot as plt\n",
    "import seaborn as sns\n",
    "import pickle"
   ]
  },
  {
   "cell_type": "code",
   "execution_count": null,
   "id": "15e0846e-dd4a-408f-b308-08c583184459",
   "metadata": {},
   "outputs": [],
   "source": [
    "with open('results.pkl', 'rb') as pickle_file:\n",
    "    results = pickle.load(pickle_file)"
   ]
  },
  {
   "cell_type": "code",
   "execution_count": null,
   "id": "7e9c132d-4786-43b2-894d-71d281b8fcc2",
   "metadata": {},
   "outputs": [],
   "source": [
    "colors = ['tab:blue', 'tab:orange', 'tab:green', 'tab:red']\n",
    "names = []"
   ]
  },
  {
   "cell_type": "code",
   "execution_count": null,
   "id": "75d6da08-f12a-48f3-a8dc-9b7bfcd408bc",
   "metadata": {},
   "outputs": [],
   "source": [
    "fig, axes = plt.subplots(nrows=2, ncols=4, figsize=(12, 6.5))\n",
    "\n",
    "for i, (N, result) in enumerate(results.items()):\n",
    "    ax = axes.flat[i]\n",
    "    \n",
    "    for k in range(4):\n",
    "        sns.kdeplot(result[:,k], ax=ax, color=colors[k], label=names[k])\n",
    "        \n",
    "    ax.set_title(r'$N=$' + f'{N}')\n",
    "    \n",
    "    if not (i==0 or i==4):\n",
    "        ax.set_ylabel('')\n",
    "    if i==6: \n",
    "        handles, labels = ax.get_legend_handles_labels()\n",
    "\n",
    "order = [0, 1, 4, 2, 3] \n",
    "axes.flat[-1].legend([handles[j] for j in order], [labels[j] for j in order], \n",
    "                     loc='center left', bbox_to_anchor=(0, 0.5))        \n",
    "axes.flat[-1].axis('off')\n",
    "fig.tight_layout()\n",
    "\n",
    "for fmt in ['png', 'pdf']:\n",
    "    fig.savefig(f'figures/Plot.{fmt}', dpi=300, bbox_inches='tight')"
   ]
  },
  {
   "cell_type": "code",
   "execution_count": null,
   "id": "b36bb18f-f7cf-47e3-9e1c-95bcbe33f5f9",
   "metadata": {},
   "outputs": [],
   "source": []
  }
 ],
 "metadata": {
  "kernelspec": {
   "display_name": "Python 3 (ipykernel)",
   "language": "python",
   "name": "python3"
  },
  "language_info": {
   "codemirror_mode": {
    "name": "ipython",
    "version": 3
   },
   "file_extension": ".py",
   "mimetype": "text/x-python",
   "name": "python",
   "nbconvert_exporter": "python",
   "pygments_lexer": "ipython3",
   "version": "3.11.5"
  }
 },
 "nbformat": 4,
 "nbformat_minor": 5
}

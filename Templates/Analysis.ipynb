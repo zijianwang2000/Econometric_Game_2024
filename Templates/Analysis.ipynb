{
 "cells": [
  {
   "cell_type": "code",
   "execution_count": 1,
   "id": "999c5862-709f-444e-b19c-74e897fd9cde",
   "metadata": {},
   "outputs": [],
   "source": [
    "import numpy as np\n",
    "import matplotlib.pyplot as plt\n",
    "import sklearn\n",
    "import xgboost as xgb\n",
    "import tensorflow as tf\n",
    "import pickle\n",
    "\n",
    "from sklearn.decomposition import PCA\n",
    "from sklearn.svm import LinearSVC, SVC, SVR\n",
    "from sklearn.ensemble import RandomForestRegressor, RandomForestClassifier\n",
    "from sklearn.linear_model import LinearRegression, LogisticRegression\n",
    "from sklearn.model_selection import train_test_split, GridSearchCV\n",
    "from sklearn.metrics import mean_squared_error, r2_score, accuracy_score, f1_score, confusion_matrix\n",
    "from sklearn.cluster import KMeans, DBSCAN\n",
    "\n",
    "from keras.models import Sequential\n",
    "from keras.layers import BatchNormalization, Dense, Dropout, Input"
   ]
  },
  {
   "cell_type": "code",
   "execution_count": null,
   "id": "db59f916-7459-4d49-9b51-27d66b1ae92b",
   "metadata": {},
   "outputs": [],
   "source": [
    "# Load preprocessed data\n",
    "df = pd.read_csv('data/data_raw.csv')\n",
    "data = np.load('data/data_clean.npy')"
   ]
  },
  {
   "cell_type": "code",
   "execution_count": null,
   "id": "b9a50655-c5c6-40bf-839c-ce094aea3a3f",
   "metadata": {},
   "outputs": [],
   "source": [
    "np.random.seed(123)"
   ]
  },
  {
   "cell_type": "code",
   "execution_count": null,
   "id": "69bd1434-a6a4-49ec-8b7a-3f1d4032e1a0",
   "metadata": {},
   "outputs": [],
   "source": [
    "# Split data into training and test set\n",
    "X_train, X_test, y_train, y_test = train_test_split(X, y, test_size=0.2, random_state=42)"
   ]
  },
  {
   "cell_type": "code",
   "execution_count": null,
   "id": "28b1da0d-4234-4419-b5f3-9b9d50d8da0b",
   "metadata": {},
   "outputs": [],
   "source": [
    "# Linear regression\n",
    "model = LinearRegression()\n",
    "model.fit(X_train, y_train)\n",
    "y_pred = model.predict(X_test)\n",
    "\n",
    "print(\"Mean Squared Error:\", mean_squared_error(y_test, y_pred))\n",
    "print(\"R-squared:\", r2_score(y_test, y_pred))\n",
    "\n",
    "intercept = model.intercept_\n",
    "coefficients = model.coef_"
   ]
  },
  {
   "cell_type": "code",
   "execution_count": null,
   "id": "45127b49-79d6-4c33-ac16-872d1150144a",
   "metadata": {},
   "outputs": [],
   "source": [
    "# Logistic regression\n",
    "model = LogisticRegression()\n",
    "#model = LogisticRegression(multi_class='multinomial', solver='lbfgs')\n",
    "model.fit(X_train, y_train)\n",
    "y_pred = model.predict(X_test)\n",
    "y_prob = model.predict_proba(X_test)[:,1]\n",
    "\n",
    "print(\"Accuracy:\", accuracy_score(y_test, y_pred))\n",
    "print(\"F1 Score:\", f1_score(y_test, y_pred))#, average='weighted'\n",
    "#print(\"Confusion Matrix:\")\n",
    "#print(confusion_matrix(y_test, y_pred))\n",
    "\n",
    "intercept = model.intercept_[0]\n",
    "coefficients = model.coef_[0]"
   ]
  },
  {
   "cell_type": "code",
   "execution_count": null,
   "id": "f9be2ed0-20bd-4b08-a50a-0e68f978356a",
   "metadata": {},
   "outputs": [],
   "source": [
    "# Cross-validation procedure for XGBoost\n",
    "xgb_model = xgb.XGBRegressor(objective='reg:squarederror')\n",
    "#xgb_model = xgb.XGBClassifier(objective='binary:logistic')\n",
    "#xgb_model = xgb.XGBClassifier(objective='multi:softmax', num_class=5)\n",
    "\n",
    "param_grid = {\n",
    "    'n_estimators': [10, 25, 50, 100, 200],\n",
    "    'max_depth': [3, 5, 7],\n",
    "    'subsample': [0.6, 0.8, 1.0],\n",
    "    'colsample_bytree': [0.6, 0.8, 1.0],\n",
    "    'learning_rate': [0.01, 0.05, 0.1, 0.2],\n",
    "    'reg_lambda': [0.01, 0.1, 1, 10, 100], #L2\n",
    "    'reg_alpha': [0.01, 0.1, 1, 10, 100], #L1\n",
    "}\n",
    "\n",
    "grid_search = GridSearchCV(estimator=xgb_model, param_grid=param_grid, cv=5, n_jobs=-1,\n",
    "                           scoring='neg_mean_squared_error')#scoring='neg_brier_score')                             \n",
    "\n",
    "grid_search.fit(X_train, y_train)\n",
    "best_params= grid_search.best_params_"
   ]
  },
  {
   "cell_type": "code",
   "execution_count": null,
   "id": "a5f67df2-5a82-4436-bba9-a80aa58b59a9",
   "metadata": {},
   "outputs": [],
   "source": [
    "# Use tuned XGBoost model\n",
    "xgb_model.set_params(**best_params)\n",
    "model.fit(X_train, y_train)\n",
    "y_pred = xgb_model.predict(X_test)\n",
    "#y_prob = xgb_model.predict_proba(X_test)[:,1]"
   ]
  },
  {
   "cell_type": "code",
   "execution_count": null,
   "id": "6dc29716-3d84-4a41-838a-c844a283c74d",
   "metadata": {},
   "outputs": [],
   "source": [
    "# Random forest\n",
    "rf_model = RandomForestRegressor(n_estimators=100, random_state=42)\n",
    "#rf_model= RandomForestClassifier(n_estimators=100, random_state=42)\n",
    "\n",
    "# Training the model on the training data\n",
    "rf_model.fit(X_train, y_train)\n",
    "y_pred = rf_model.predict(X_test)\n",
    "#y_prob = rf_model.predict_proba(X_test)[:,1]\n",
    "\n",
    "\"\"\"\n",
    "param_grid = {\n",
    "    'n_estimators': [100, 200, 300],  # Number of trees in the forest\n",
    "    'max_features': ['auto', 'sqrt'],  # Number of features to consider for the best split\n",
    "    'max_depth': [None, 10, 20, 30],  # Maximum depth of the trees\n",
    "    'min_samples_split': [2, 5, 10],  # Minimum number of samples required to split an internal node\n",
    "    'min_samples_leaf': [1, 2, 4],  # Minimum number of samples required to be at a leaf node\n",
    "    'bootstrap': [True, False]  # Whether bootstrap samples are used when building trees\n",
    "}\n",
    "\"\"\""
   ]
  },
  {
   "cell_type": "code",
   "execution_count": null,
   "id": "b81331fa-6916-460d-90ec-9b101ab5fa94",
   "metadata": {},
   "outputs": [],
   "source": [
    "# Use linear SVM after PCA\n",
    "accuracies = []\n",
    "\n",
    "pca = PCA(n_components = 200)\n",
    "pca.fit(X)\n",
    "print(\"Portion of explained variance:\", pca.explained_variance_ratio_)\n",
    "\n",
    "for q in range(10, 201, 10):    \n",
    "    X_train_pca = pca.transform(X_train)[:, :q]\n",
    "    X_test_pca = pca.transform(X_test)[:, :q]\n",
    "\n",
    "    svm = LinearSVC(C = 0.01, max_iter = 10**4)\n",
    "    svm.fit(X_train_pca, y_train)\n",
    "    \n",
    "    accuracies.append((svm.score(X_train_pca, y_train), svm.score(X_test_pca, y_test)))"
   ]
  },
  {
   "cell_type": "code",
   "execution_count": null,
   "id": "2682085d-d8d9-4653-812f-51dbc95cd4b6",
   "metadata": {},
   "outputs": [],
   "source": [
    "# Use SVM after cross-validation\n",
    "param_grid = {\n",
    "    \"C\": [1, 10, 100], \n",
    "    \"gamma\": [0.001, 0.01, 0.1]\n",
    "}\n",
    "\n",
    "grid_search = GridSearchCV(SVC(), param_grid, cv=5) \n",
    "grid_search.fit(X_train, y_train)\n",
    "C, gamma = grid_search.best_params_[\"C\"], grid_search.best_params_[\"gamma\"]\n",
    "\n",
    "svm = SVC(C=C, gamma=gamma) # default kernel is rbf\n",
    "svm.fit(X_train, y_train)\n",
    "y_pred = svm.predict(X_test)"
   ]
  },
  {
   "cell_type": "code",
   "execution_count": null,
   "id": "b9ef1fa7-cddc-477d-852f-de8fb80d5762",
   "metadata": {},
   "outputs": [],
   "source": [
    "# MLP implementation\n",
    "np.random.seed(42)\n",
    "tf.random.set_seed(42)\n",
    "\n",
    "model = Sequential()\n",
    "model.add(Input(shape=(X_train.shape[1],)))\n",
    "model.add(Dense(32, activation=\"relu\"))\n",
    "model.add(Dropout(0.3))\n",
    "model.add(Dense(32, activation=\"relu\"))\n",
    "model.add(Dropout(0.3))\n",
    "model.add(Dense(5, activation=\"softmax\"))\n",
    "#model.add(Dense(1)) # regression\n",
    "#model.add(Dense(1, activation='sigmoid')) # binary classification    \n",
    "\n",
    "model.compile(loss=\"categorical_crossentropy\", optimizer=\"adam\", metrics=[\"accuracy\"])\n",
    "#model.compile(loss=\"mean_squared_error2, optimizer=\"adam\") # regression\n",
    "#model.compile(loss=\"binary_crossentropy\", optimizer=\"adam\", metrics=[\"accuracy\"]) # binary classification\n",
    "\n",
    "model.fit(X_train, y_train, batch_size=32, epochs=10, validation_data=(X_test, y_test))\n",
    "y_pred = model.predict(X_test)"
   ]
  },
  {
   "cell_type": "code",
   "execution_count": null,
   "id": "8db49c56-1009-425c-bb04-5be998a7b5c2",
   "metadata": {},
   "outputs": [],
   "source": [
    "# k-means clustering\n",
    "kmeans = KMeans(n_clusters=4)\n",
    "kmeans.fit(X)\n",
    "labels = kmeans.labels_\n",
    "\n",
    "plt.scatter(X[:, 0], X[:, 1], c=labels, cmap='viridis')\n",
    "centers = kmeans.cluster_centers_\n",
    "plt.scatter(centers[:, 0], centers[:, 1], marker='o', s=200, edgecolors='k', c='red')\n",
    "plt.show()"
   ]
  },
  {
   "cell_type": "code",
   "execution_count": null,
   "id": "2d18b78e-30a7-441e-b27b-daec1926ba29",
   "metadata": {},
   "outputs": [],
   "source": [
    "# DBSCAN clustering\n",
    "dbscan = DBSCAN(eps=1, min_samples=5)\n",
    "dbscan.fit(X)\n",
    "labels = dbscan.labels_\n",
    "centers = dbscan.cluster_centers_"
   ]
  },
  {
   "cell_type": "code",
   "execution_count": null,
   "id": "42464625-7065-4848-8961-1738bd9f3c7a",
   "metadata": {},
   "outputs": [],
   "source": [
    "# Store results for creating plots\n",
    "with open('results.pkl', 'wb') as pickle_file:\n",
    "    pickle.dump(results, pickle_file)"
   ]
  }
 ],
 "metadata": {
  "kernelspec": {
   "display_name": "Python 3 (ipykernel)",
   "language": "python",
   "name": "python3"
  },
  "language_info": {
   "codemirror_mode": {
    "name": "ipython",
    "version": 3
   },
   "file_extension": ".py",
   "mimetype": "text/x-python",
   "name": "python",
   "nbconvert_exporter": "python",
   "pygments_lexer": "ipython3",
   "version": "3.11.5"
  }
 },
 "nbformat": 4,
 "nbformat_minor": 5
}
